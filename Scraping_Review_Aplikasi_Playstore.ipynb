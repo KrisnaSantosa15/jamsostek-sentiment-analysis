{
 "cells": [
  {
   "cell_type": "markdown",
   "metadata": {
    "id": "nvTZwrb841uZ"
   },
   "source": [
    "# Import Library"
   ]
  },
  {
   "cell_type": "code",
   "execution_count": 5,
   "metadata": {
    "colab": {
     "base_uri": "https://localhost:8080/"
    },
    "id": "Xvujl1W24Xfd",
    "outputId": "c1b5a0e9-dd58-4f34-9f5f-92b064e7f4d9"
   },
   "outputs": [
    {
     "name": "stdout",
     "output_type": "stream",
     "text": [
      "Requirement already satisfied: google-play-scraper in /usr/local/lib/python3.11/dist-packages (1.2.7)\n"
     ]
    }
   ],
   "source": [
    "!pip install google-play-scraper"
   ]
  },
  {
   "cell_type": "code",
   "execution_count": 10,
   "metadata": {
    "id": "EvoA664oeLz-"
   },
   "outputs": [],
   "source": [
    "from google_play_scraper import reviews, Sort\n",
    "import pandas as pd"
   ]
  },
  {
   "cell_type": "code",
   "execution_count": 11,
   "metadata": {
    "id": "v8kYg0-Y47EA"
   },
   "outputs": [],
   "source": [
    "def scrape_reviews(app_id, review_count=30000, lang='id', country='id', filename='playstore_reviews.csv'):\n",
    "    \"\"\"\n",
    "    Scrape reviews from Google Play Store and extract specific columns\n",
    "\n",
    "    Parameters:\n",
    "    app_id (str): The application ID from Google Play Store\n",
    "    review_count (int): Number of reviews to scrape\n",
    "\n",
    "    Returns:\n",
    "    pandas.DataFrame: DataFrame containing selected review information\n",
    "    \"\"\"\n",
    "    print(f\"Starting to scrape {review_count} reviews...\")\n",
    "\n",
    "    # Scrape reviews - properly unpack the tuple returned by reviews()\n",
    "    result, continuation_token = reviews(\n",
    "        app_id,\n",
    "        lang=lang,\n",
    "        country=country,\n",
    "        sort=Sort.MOST_RELEVANT,\n",
    "        count=review_count\n",
    "    )\n",
    "\n",
    "    # Create DataFrame with the review results\n",
    "    df = pd.DataFrame(result)\n",
    "\n",
    "    # Select only required columns\n",
    "    selected_columns = {\n",
    "        'reviewId': 'id',\n",
    "        'content': 'content',\n",
    "        'score': 'score',\n",
    "        'at': 'date'\n",
    "    }\n",
    "\n",
    "    # Create new DataFrame with selected columns and renamed headers\n",
    "    df_selected = df[selected_columns.keys()].rename(columns=selected_columns)\n",
    "\n",
    "    print(\"Saving to CSV...\")\n",
    "    # Save to CSV\n",
    "    df_selected.to_csv(filename, index=False)\n",
    "    print(\"Done!\")\n",
    "\n",
    "    print(f\"\\nTotal reviews scraped: {len(df_selected)}\")\n",
    "\n",
    "    return df_selected"
   ]
  },
  {
   "cell_type": "markdown",
   "metadata": {
    "id": "VGLbRkpe5Ipn"
   },
   "source": [
    "# Scrapping Dataset"
   ]
  },
  {
   "cell_type": "markdown",
   "metadata": {},
   "source": [
    "Dalam notebook ini, kita akan melakukan scraping data dari google play store menggunakan library `google-play-scraper` untuk mendapatkan review aplikasi BPJS atau Jamsostek Mobile dengan 150.000 review yang paling relevan."
   ]
  },
  {
   "cell_type": "code",
   "execution_count": null,
   "metadata": {
    "colab": {
     "base_uri": "https://localhost:8080/"
    },
    "id": "hJkJZEcl5Ay4",
    "outputId": "e35bebcf-2737-401a-fa5a-41aa9061d374"
   },
   "outputs": [
    {
     "name": "stdout",
     "output_type": "stream",
     "text": [
      "Starting to scrape 150000 reviews...\n",
      "Saving to CSV...\n",
      "Done!\n",
      "\n",
      "Total reviews scraped: 108000\n",
      "DataFrame shape: (108000, 4)\n",
      "\n",
      "First few rows:\n",
      "                                     id  \\\n",
      "0  f0c8161b-3014-4d04-9e71-aa78520b5899   \n",
      "1  00cd22a2-b8b1-424b-a0c0-090aa3d136ee   \n",
      "2  493aade3-c29d-4a44-8454-c74a66643993   \n",
      "3  a9cba0b7-17f4-42f0-b80b-b0f9cdc8c17b   \n",
      "4  9d20718e-a57b-42b3-82f9-792b3206a1ed   \n",
      "\n",
      "                                             content  score  \\\n",
      "0  Kenapa aplikasinya sering error? Kemarin² ga b...      1   \n",
      "1  Aplikasi JMO (Jamsostek ketenagakerjaan ini, s...      5   \n",
      "2  Dulu aplikasi ini bagus, tapi kenapa mau cek s...      2   \n",
      "3  saat melakukan pengkinan data malah ke refresh...      1   \n",
      "4  Katanya aplikasi intansi pemerintah, tapi laya...      1   \n",
      "\n",
      "                 date  \n",
      "0 2025-01-22 19:02:07  \n",
      "1 2025-02-01 10:00:59  \n",
      "2 2025-01-05 18:10:29  \n",
      "3 2025-01-13 14:30:42  \n",
      "4 2025-01-30 11:12:14  \n"
     ]
    }
   ],
   "source": [
    "app_id = 'com.bpjstku'\n",
    "filename = 'ulasan_aplikasi_bpjs_mobile_100K.csv'\n",
    "reviews_df = scrape_reviews(app_id, review_count=150000, filename=filename)\n",
    "\n",
    "# Display first few rows and shape of the DataFrame\n",
    "print(f\"DataFrame shape: {reviews_df.shape}\")\n",
    "print(\"\\nFirst few rows:\")\n",
    "print(reviews_df.head())"
   ]
  },
  {
   "cell_type": "markdown",
   "metadata": {},
   "source": [
    "Setelah melakukan scraping 150.000 review, ternyata data yang berhasil diambil hanya sekitar 108.000 review. Hal ini dikarenakan google play store hanya memiliki 108.000 data paling relevan yang bisa diambil."
   ]
  }
 ],
 "metadata": {
  "colab": {
   "provenance": []
  },
  "kernelspec": {
   "display_name": "Python [conda env:.conda-sentiment-analysis]",
   "language": "python",
   "name": "conda-env-.conda-sentiment-analysis-py"
  },
  "language_info": {
   "codemirror_mode": {
    "name": "ipython",
    "version": 3
   },
   "file_extension": ".py",
   "mimetype": "text/x-python",
   "name": "python",
   "nbconvert_exporter": "python",
   "pygments_lexer": "ipython3",
   "version": "3.8.20"
  }
 },
 "nbformat": 4,
 "nbformat_minor": 4
}
